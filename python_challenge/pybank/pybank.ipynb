{
 "cells": [
  {
   "cell_type": "code",
   "execution_count": 1,
   "metadata": {},
   "outputs": [],
   "source": [
    "import os\n",
    "import csv"
   ]
  },
  {
   "cell_type": "code",
   "execution_count": 2,
   "metadata": {},
   "outputs": [],
   "source": [
    "csvpath=os.path.join(\"documents\",\"resources\",\"budget_data.csv\")"
   ]
  },
  {
   "cell_type": "code",
   "execution_count": 3,
   "metadata": {},
   "outputs": [
    {
     "name": "stdout",
     "output_type": "stream",
     "text": [
      "Financial Analysis\n",
      "------------------------------------\n",
      "Amount of time: 86 months.\n",
      "Total profit and losses: $38382578\n",
      "Average change in profit and loss/month: $446309.05\n",
      "Largest increase in a month: $1170593\n",
      "Largest decrease in a month: $-1196225\n"
     ]
    }
   ],
   "source": [
    "#translate csv into readable file WITH integers column for P&L\n",
    "with open(csvpath) as csvfile:\n",
    "    readcsv = csv.reader(csvfile, delimiter=',')\n",
    "    header = next(readcsv)\n",
    "#Create variables and open ranges for data\n",
    "    total = 0\n",
    "    dates = []\n",
    "    pls = []\n",
    "#Create for loop to append count and sum\n",
    "    for row in readcsv:\n",
    "        date = row[0]\n",
    "        pl = int(row[1])\n",
    "        dates.append(date)\n",
    "        pls.append(pl)\n",
    "        \n",
    "    print(\"Financial Analysis\")\n",
    "    print(\"------------------------------------\")\n",
    "        \n",
    "    time_cnt = len(dates)\n",
    "    print(\"Amount of time: \" + str(time_cnt) + \" months.\")\n",
    "        \n",
    "    pls_sum = sum(pls)\n",
    "    print(\"Total profit and losses: $\" + str(pls_sum))\n",
    "    \n",
    "    avg_chg = (pls_sum/time_cnt)\n",
    "    print(\"Average change in profit and loss/month: $\" + \"%.2f\" % round(avg_chg,2))\n",
    "    \n",
    "    max_inc = max(pls)\n",
    "    print(\"Largest increase in a month: $\" + str(max_inc))\n",
    "    \n",
    "    max_dec = min(pls)\n",
    "    print(\"Largest decrease in a month: $\" + str(max_dec))\n",
    "        "
   ]
  },
  {
   "cell_type": "code",
   "execution_count": null,
   "metadata": {},
   "outputs": [],
   "source": []
  }
 ],
 "metadata": {
  "kernelspec": {
   "display_name": "Python [conda env:Anaconda3]",
   "language": "python",
   "name": "conda-env-Anaconda3-py"
  },
  "language_info": {
   "codemirror_mode": {
    "name": "ipython",
    "version": 3
   },
   "file_extension": ".py",
   "mimetype": "text/x-python",
   "name": "python",
   "nbconvert_exporter": "python",
   "pygments_lexer": "ipython3",
   "version": "3.6.6"
  }
 },
 "nbformat": 4,
 "nbformat_minor": 2
}
